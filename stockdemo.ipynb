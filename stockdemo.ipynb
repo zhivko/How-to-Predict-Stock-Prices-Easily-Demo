{
 "cells": [
  {
   "cell_type": "code",
   "execution_count": 46,
   "metadata": {
    "collapsed": true
   },
   "outputs": [],
   "source": [
    "from keras.layers.core import Dense, Activation, Dropout\n",
    "from keras.layers.recurrent import LSTM\n",
    "from keras.models import Sequential\n",
    "import lstm, time #helper libraries\n",
    "\n",
    "import urllib.parse\n",
    "import pandas as pd\n",
    "from pandas import datetime\n",
    "import datetime\n",
    "import math, time"
   ]
  },
  {
   "cell_type": "code",
   "execution_count": 85,
   "metadata": {},
   "outputs": [
    {
     "name": "stdout",
     "output_type": "stream",
     "text": [
      "http://www.google.com/finance/historical?q=NASDAQ%3ATSLA&ei=u-lHWfGPNNWIsgHHqIqICw&output=csv&startdate=Jan+1%2C+2010\n"
     ]
    }
   ],
   "source": [
    "def get_stock_data(stock_name, normalized=0):\n",
    "    #url = 'http://chart.finance.yahoo.com/table.csv?s=%s&a=11&b=15&c=2011&d=29&e=10&f=2016&g=d&ignore=.csv' % stock_name\n",
    "    #&startdate=Jan+1%2C+2010\n",
    "    #http://www.google.com/finance/historical?q=NASDAQ%3ATSLA&ei=u-lHWfGPNNWIsgHHqIqICw&output=csv&startdate=Jan+1%2C+2010\n",
    "    url=\"http://www.google.com/finance/historical?q=%s&ei=u-lHWfGPNNWIsgHHqIqICw&output=csv&startdate=%s\" %(stock_name,start_date)\n",
    "    print(url)\n",
    "    #col_names = ['Date','Open','High','Low','Close','Volume','Adj Close']\n",
    "    col_names = ['Date','Open','High','Low','Close','Volume']\n",
    "    stocks = pd.read_csv(url, header=0, names=col_names) \n",
    "    df = pd.DataFrame(stocks)\n",
    "    date_split = df['Date'].str.split('-').str\n",
    "    df['Year'], df['Month'], df['Day'] = date_split\n",
    "    #df[\"Volume\"] = df[\"Volume\"] \n",
    "    #df[\"Close\"] = df[\"Close\"] \n",
    "    #df[\"High\"] = df[\"High\"] \n",
    "    #df.drop(df.columns[[0,3,5,6, 7,8,9]], axis=1, inplace=True)\n",
    "    #df.drop(df.columns[[0,3,5,6, 7,8]], axis=1, inplace=True)\n",
    "    del df['Year']\n",
    "    del df['Volume']\n",
    "    del df['High']\n",
    "    del df['Low']\n",
    "    del df['Month']\n",
    "    del df['Day']\n",
    "    del df['Date']\n",
    "    del df['Open']\n",
    "    df.reindex(index=df.index[::-1])\n",
    "    return df\n",
    "\n",
    "start_date = \"Jan+1%2C+2010\"\n",
    "stock_name = urllib.parse.quote('NASDAQ:TSLA')\n",
    "df = get_stock_data(stock_name,0)\n",
    "df.head()\n",
    "\n",
    "today = datetime.date.today()\n",
    "file_name = stock_name + '_stock_%s.csv' % today\n",
    "df.to_csv(file_name,index=False)\n",
    "\n",
    "\n",
    "with open(file_name, 'r') as fin:\n",
    "    data = fin.read().splitlines(True)\n",
    "with open(file_name, 'w') as fout:\n",
    "    fout.writelines(data[1:])\n"
   ]
  },
  {
   "cell_type": "code",
   "execution_count": 86,
   "metadata": {},
   "outputs": [],
   "source": [
    "#Step 1 Load Data\n",
    "X_train, y_train, X_test, y_test = lstm.load_data(file_name, 50, True)"
   ]
  },
  {
   "cell_type": "code",
   "execution_count": 87,
   "metadata": {},
   "outputs": [
    {
     "name": "stdout",
     "output_type": "stream",
     "text": [
      "compilation time :  0.028047561645507812\n"
     ]
    }
   ],
   "source": [
    "#Step 2 Build Model\n",
    "model = Sequential()\n",
    "\n",
    "model.add(LSTM(\n",
    "    input_dim=1,\n",
    "    output_dim=50,\n",
    "    return_sequences=True))\n",
    "model.add(Dropout(0.2))\n",
    "\n",
    "model.add(LSTM(\n",
    "    100,\n",
    "    return_sequences=False))\n",
    "model.add(Dropout(0.2))\n",
    "\n",
    "model.add(Dense(\n",
    "    output_dim=1))\n",
    "model.add(Activation('linear'))\n",
    "\n",
    "start = time.time()\n",
    "model.compile(loss='mse', optimizer='rmsprop')\n",
    "print('compilation time : ', time.time() - start)"
   ]
  },
  {
   "cell_type": "code",
   "execution_count": 88,
   "metadata": {},
   "outputs": [
    {
     "name": "stdout",
     "output_type": "stream",
     "text": [
      "Train on 1461 samples, validate on 77 samples\n",
      "Epoch 1/1\n",
      "1461/1461 [==============================] - 6s - loss: 0.0272 - val_loss: 0.0054\n"
     ]
    },
    {
     "data": {
      "text/plain": [
       "<keras.callbacks.History at 0x2cf3ac02860>"
      ]
     },
     "execution_count": 88,
     "metadata": {},
     "output_type": "execute_result"
    }
   ],
   "source": [
    "#Step 3 Train the model\n",
    "model.fit(\n",
    "    X_train,\n",
    "    y_train,\n",
    "    batch_size=512,\n",
    "    nb_epoch=1,\n",
    "    validation_split=0.05)"
   ]
  },
  {
   "cell_type": "code",
   "execution_count": 89,
   "metadata": {},
   "outputs": [
    {
     "name": "stdout",
     "output_type": "stream",
     "text": [
      "yo\n"
     ]
    },
    {
     "data": {
      "image/png": "[encoded data removed]",
      "text/plain": [
       "<matplotlib.figure.Figure at 0x2cf3ac1a3c8>"
      ]
     },
     "metadata": {},
     "output_type": "display_data"
    }
   ],
   "source": [
    "#Step 4 - Plot the predictions!\n",
    "predictions = lstm.predict_sequences_multiple(model, X_test, 50, 50)\n",
    "lstm.plot_results_multiple(predictions, y_test, 50)"
   ]
  },
  {
   "cell_type": "code",
   "execution_count": null,
   "metadata": {
    "collapsed": true
   },
   "outputs": [],
   "source": []
  }
 ],
 "metadata": {
  "kernelspec": {
   "display_name": "Python 3",
   "language": "python",
   "name": "python3"
  },
  "language_info": {
   "codemirror_mode": {
    "name": "ipython",
    "version": 3
   },
   "file_extension": ".py",
   "mimetype": "text/x-python",
   "name": "python",
   "nbconvert_exporter": "python",
   "pygments_lexer": "ipython3",
   "version": "3.5.0"
  }
 },
 "nbformat": 4,
 "nbformat_minor": 2
}
